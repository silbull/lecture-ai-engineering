{
 "cells": [
  {
   "cell_type": "code",
   "execution_count": 1,
   "id": "398e1a59",
   "metadata": {},
   "outputs": [
    {
     "data": {
      "text/plain": [
       "True"
      ]
     },
     "execution_count": 1,
     "metadata": {},
     "output_type": "execute_result"
    }
   ],
   "source": [
    "from dotenv import load_dotenv, find_dotenv\n",
    "\n",
    "\n",
    "load_dotenv(find_dotenv())\n"
   ]
  },
  {
   "cell_type": "code",
   "execution_count": 2,
   "id": "cec0c062",
   "metadata": {},
   "outputs": [
    {
     "name": "stdout",
     "output_type": "stream",
     "text": [
      "Authtoken saved to configuration file: /home/tmiya/.config/ngrok/ngrok.yml\n"
     ]
    }
   ],
   "source": [
    "!ngrok authtoken $$NGROK_TOKEN"
   ]
  },
  {
   "cell_type": "code",
   "execution_count": null,
   "id": "3948e40a",
   "metadata": {},
   "outputs": [
    {
     "name": "stdout",
     "output_type": "stream",
     "text": [
      "\n",
      "  You can now view your Streamlit app in your browser.\n",
      "\n",
      "  Local URL: http://localhost:8501\n",
      "  Network URL: http://172.22.108.179:8501\n",
      "\n"
     ]
    },
    {
     "name": "stderr",
     "output_type": "stream",
     "text": [
      "gio: http://localhost:8501: Operation not supported\n"
     ]
    },
    {
     "name": "stdout",
     "output_type": "stream",
     "text": [
      "🔗 公開URL: NgrokTunnel: \"https://e1fb-61-114-134-7.ngrok-free.app\" -> \"http://localhost:8501\"\n"
     ]
    }
   ],
   "source": [
    "import subprocess\n",
    "import time\n",
    "from pyngrok import ngrok\n",
    "\n",
    "# streamlit起動（8501番ポート）\n",
    "proc = subprocess.Popen([\"streamlit\", \"run\", \"app.py\"])\n",
    "\n",
    "# 起動をちょっと待つ（本来はポート確認がベター）\n",
    "time.sleep(5)\n",
    "\n",
    "# ngrokトンネル作成\n",
    "public_url = ngrok.connect(8501)\n",
    "print(f\"🔗 公開URL: {public_url}\")\n",
    "\n",
    "try:\n",
    "    proc.wait()\n",
    "except KeyboardInterrupt:\n",
    "    print(\"🛑 終了中...\")\n",
    "    proc.terminate()\n",
    "    ngrok.kill()\n",
    "    print(\"🔒 ngrokトンネルを終了しました。\")\n"
   ]
  }
 ],
 "metadata": {
  "kernelspec": {
   "display_name": "Python (01_streamlit_UI)",
   "language": "python",
   "name": "streamlit_ui_env"
  },
  "language_info": {
   "codemirror_mode": {
    "name": "ipython",
    "version": 3
   },
   "file_extension": ".py",
   "mimetype": "text/x-python",
   "name": "python",
   "nbconvert_exporter": "python",
   "pygments_lexer": "ipython3",
   "version": "3.12.10"
  }
 },
 "nbformat": 4,
 "nbformat_minor": 5
}
